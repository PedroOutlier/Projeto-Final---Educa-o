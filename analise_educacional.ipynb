{
 "cells": [
  {
   "cell_type": "markdown",
   "id": "169072d5",
   "metadata": {},
   "source": [
    "# Análise de Dados Educacionais\n",
    "Este notebook analisa dados fictícios de alunos para entender o impacto de faltas e tempo de estudo no desempenho escolar."
   ]
  },
  {
   "cell_type": "code",
   "execution_count": null,
   "id": "3ad14a8f",
   "metadata": {},
   "outputs": [],
   "source": [
    "import pandas as pd\n",
    "import matplotlib.pyplot as plt\n",
    "import seaborn as sns\n",
    "\n",
    "sns.set(style='whitegrid')"
   ]
  },
  {
   "cell_type": "code",
   "execution_count": null,
   "id": "444426ce",
   "metadata": {},
   "outputs": [],
   "source": [
    "df = pd.read_csv('dados_alunos.csv')\n",
    "df.head()"
   ]
  },
  {
   "cell_type": "code",
   "execution_count": null,
   "id": "8f153fc6",
   "metadata": {},
   "outputs": [],
   "source": [
    "df.describe()"
   ]
  },
  {
   "cell_type": "code",
   "execution_count": null,
   "id": "4ed76149",
   "metadata": {},
   "outputs": [],
   "source": [
    "df['Média'] = df[['Nota_1', 'Nota_2']].mean(axis=1)\n",
    "df.sort_values(by='Média', ascending=False).head()"
   ]
  },
  {
   "cell_type": "code",
   "execution_count": null,
   "id": "77585411",
   "metadata": {},
   "outputs": [],
   "source": [
    "plt.figure(figsize=(8,5))\n",
    "sns.scatterplot(data=df, x='Estudo (h/semana)', y='Média', hue='Faltas', palette='coolwarm', size='Faltas')\n",
    "plt.title('Estudo vs Média das Notas')\n",
    "plt.xlabel('Horas de Estudo por Semana')\n",
    "plt.ylabel('Média das Notas')\n",
    "plt.tight_layout()\n",
    "plt.show()"
   ]
  },
  {
   "cell_type": "markdown",
   "id": "e3b1f9c7",
   "metadata": {},
   "source": [
    "### Conclusão\n",
    "A análise mostra que alunos que estudam mais tendem a ter melhores médias. Faltas também impactam negativamente o desempenho. Isso mostra a importância do acompanhamento e disciplina nos estudos."
   ]
  }
 ],
 "metadata": {},
 "nbformat": 4,
 "nbformat_minor": 5
}
